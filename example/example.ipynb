{
 "cells": [
  {
   "cell_type": "markdown",
   "metadata": {},
   "source": [
    "# Imports"
   ]
  },
  {
   "cell_type": "code",
   "execution_count": 1,
   "metadata": {},
   "outputs": [],
   "source": [
    "%load_ext autoreload\n",
    "%autoreload 2"
   ]
  },
  {
   "cell_type": "code",
   "execution_count": 2,
   "metadata": {},
   "outputs": [],
   "source": [
    "import sys\n",
    "\n",
    "sys.path.append(\"..\")\n",
    "\n",
    "import tensorflow as tf\n",
    "from sklearn.datasets import fetch_california_housing\n",
    "from sklearn.model_selection import train_test_split\n",
    "from sklearn.preprocessing import StandardScaler\n",
    "import numpy as np\n",
    "import matplotlib.pyplot as plt\n",
    "\n",
    "from helpers import to_dataset\n",
    "from model.randomized_prior_nn import RandomizedPrioNet"
   ]
  },
  {
   "cell_type": "markdown",
   "metadata": {},
   "source": [
    "# Get some multidimensional data"
   ]
  },
  {
   "cell_type": "code",
   "execution_count": 3,
   "metadata": {},
   "outputs": [
    {
     "name": "stdout",
     "output_type": "stream",
     "text": [
      "train size: 14848\n",
      "val size: 1536\n",
      "test size: 4128\n"
     ]
    },
    {
     "name": "stderr",
     "output_type": "stream",
     "text": [
      "2023-08-03 13:41:13.325441: I metal_plugin/src/device/metal_device.cc:1154] Metal device set to: Apple M1 Max\n",
      "2023-08-03 13:41:13.325465: I metal_plugin/src/device/metal_device.cc:296] systemMemory: 32.00 GB\n",
      "2023-08-03 13:41:13.325469: I metal_plugin/src/device/metal_device.cc:313] maxCacheSize: 10.67 GB\n",
      "2023-08-03 13:41:13.325497: I tensorflow/core/common_runtime/pluggable_device/pluggable_device_factory.cc:303] Could not identify NUMA node of platform GPU ID 0, defaulting to 0. Your kernel may not have been built with NUMA support.\n",
      "2023-08-03 13:41:13.325512: I tensorflow/core/common_runtime/pluggable_device/pluggable_device_factory.cc:269] Created TensorFlow device (/job:localhost/replica:0/task:0/device:GPU:0 with 0 MB memory) -> physical PluggableDevice (device: 0, name: METAL, pci bus id: <undefined>)\n"
     ]
    }
   ],
   "source": [
    "X, y = fetch_california_housing(return_X_y=True, as_frame=True)\n",
    "\n",
    "batch_size = 256\n",
    "\n",
    "X_train, X_test, y_train, y_test = train_test_split(X, y, test_size=0.2, shuffle=True)\n",
    "X_train, X_val, y_train, y_val = train_test_split(X_train, y_train, test_size=0.1, shuffle=True)\n",
    "\n",
    "scaler = StandardScaler()\n",
    "X_train = scaler.fit_transform(X_train)\n",
    "X_val = scaler.transform(X_val)\n",
    "X_test = scaler.transform(X_test)\n",
    "\n",
    "y_train = y_train.to_numpy()\n",
    "y_val = y_val.to_numpy()\n",
    "\n",
    "ds_train = to_dataset(X_train, y_train, batch_size=batch_size)\n",
    "ds_val = to_dataset(X_val, y_val, batch_size=batch_size)\n",
    "    \n",
    "print(f\"train size: {len(ds_train.unbatch())}\")\n",
    "print(f\"val size: {len(ds_val.unbatch())}\")\n",
    "print(f\"test size: {len(X_test)}\")"
   ]
  },
  {
   "cell_type": "markdown",
   "metadata": {},
   "source": [
    "## Train model"
   ]
  },
  {
   "cell_type": "code",
   "execution_count": 4,
   "metadata": {},
   "outputs": [
    {
     "name": "stderr",
     "output_type": "stream",
     "text": [
      "WARNING:absl:At this time, the v2.11+ optimizer `tf.keras.optimizers.Adam` runs slowly on M1/M2 Macs, please use the legacy Keras optimizer instead, located at `tf.keras.optimizers.legacy.Adam`.\n",
      "WARNING:absl:There is a known slowdown when using v2.11+ Keras optimizers on M1/M2 Macs. Falling back to the legacy Keras optimizer, i.e., `tf.keras.optimizers.legacy.Adam`.\n"
     ]
    },
    {
     "name": "stdout",
     "output_type": "stream",
     "text": [
      "Epoch 1/20\n"
     ]
    },
    {
     "name": "stderr",
     "output_type": "stream",
     "text": [
      "2023-08-03 13:41:15.804970: I tensorflow/core/grappler/optimizers/custom_graph_optimizer_registry.cc:114] Plugin optimizer for device_type GPU is enabled.\n"
     ]
    },
    {
     "name": "stdout",
     "output_type": "stream",
     "text": [
      "58/58 [==============================] - ETA: 0s - loss: 1.6917"
     ]
    },
    {
     "name": "stderr",
     "output_type": "stream",
     "text": [
      "2023-08-03 13:41:23.168059: I tensorflow/core/grappler/optimizers/custom_graph_optimizer_registry.cc:114] Plugin optimizer for device_type GPU is enabled.\n"
     ]
    },
    {
     "name": "stdout",
     "output_type": "stream",
     "text": [
      "58/58 [==============================] - 10s 88ms/step - loss: 1.6917 - val_loss: 1.3101 - lr: 0.0100\n",
      "Epoch 2/20\n",
      "58/58 [==============================] - 4s 65ms/step - loss: 0.8306 - val_loss: 0.9444 - lr: 0.0100\n",
      "Epoch 3/20\n",
      "58/58 [==============================] - 4s 68ms/step - loss: 0.6949 - val_loss: 0.6943 - lr: 0.0100\n",
      "Epoch 4/20\n",
      "58/58 [==============================] - 4s 65ms/step - loss: 0.6783 - val_loss: 0.6920 - lr: 0.0100\n",
      "Epoch 5/20\n",
      "58/58 [==============================] - 4s 63ms/step - loss: 0.6339 - val_loss: 0.6271 - lr: 0.0100\n",
      "Epoch 6/20\n",
      "58/58 [==============================] - 4s 63ms/step - loss: 0.5978 - val_loss: 0.5979 - lr: 0.0100\n",
      "Epoch 7/20\n",
      "58/58 [==============================] - 4s 65ms/step - loss: 0.5752 - val_loss: 0.6177 - lr: 0.0100\n",
      "Epoch 8/20\n",
      "58/58 [==============================] - 4s 64ms/step - loss: 0.5777 - val_loss: 0.5895 - lr: 0.0100\n",
      "Epoch 9/20\n",
      "58/58 [==============================] - 4s 65ms/step - loss: 0.5470 - val_loss: 0.5456 - lr: 0.0100\n",
      "Epoch 10/20\n",
      "58/58 [==============================] - 4s 63ms/step - loss: 0.5304 - val_loss: 0.6323 - lr: 0.0100\n",
      "Epoch 11/20\n",
      "58/58 [==============================] - ETA: 0s - loss: 0.5043\n",
      "Epoch 11: ReduceLROnPlateau reducing learning rate to 0.0009999999776482583.\n",
      "58/58 [==============================] - 4s 62ms/step - loss: 0.5043 - val_loss: 0.5891 - lr: 0.0100\n",
      "Epoch 12/20\n",
      "58/58 [==============================] - 4s 62ms/step - loss: 0.5023 - val_loss: 0.5676 - lr: 1.0000e-03\n",
      "Epoch 13/20\n",
      "58/58 [==============================] - ETA: 0s - loss: 0.4912\n",
      "Epoch 13: ReduceLROnPlateau reducing learning rate to 9.999999310821295e-05.\n",
      "58/58 [==============================] - 4s 63ms/step - loss: 0.4912 - val_loss: 0.5734 - lr: 1.0000e-03\n",
      "Epoch 13: early stopping\n"
     ]
    }
   ],
   "source": [
    "model = RandomizedPrioNet(\n",
    "    num_hidden_prior=1,\n",
    "    dim_hidden_prior=16,\n",
    "    num_hidden_encoder=2,\n",
    "    dim_hidden_encoder=64,\n",
    "    dropout_encoder=0.2,\n",
    "    num_subnetworks=20,\n",
    "    prior_scale=1.0,\n",
    ")\n",
    "\n",
    "tf.keras.backend.clear_session()\n",
    "\n",
    "optimizer = tf.keras.optimizers.Adam(learning_rate=1e-2)\n",
    "loss = tf.keras.losses.MeanSquaredError(reduction=tf.keras.losses.Reduction.SUM_OVER_BATCH_SIZE)\n",
    "model.compile(optimizer=optimizer, loss=loss)\n",
    "callbacks = [\n",
    "    tf.keras.callbacks.ReduceLROnPlateau(monitor=\"val_loss\", patience=2, mode=\"min\", verbose=1),\n",
    "    tf.keras.callbacks.EarlyStopping(monitor=\"val_loss\", patience=4, verbose=1),\n",
    "]\n",
    "\n",
    "history = model.fit(\n",
    "    ds_train,\n",
    "    validation_data=ds_val,\n",
    "    epochs=20,\n",
    "    callbacks=callbacks,\n",
    ")"
   ]
  },
  {
   "cell_type": "code",
   "execution_count": 18,
   "metadata": {},
   "outputs": [
    {
     "name": "stdout",
     "output_type": "stream",
     "text": [
      "17/17 [==============================] - 0s 12ms/step\n"
     ]
    }
   ],
   "source": [
    "y_pred, y_pred_intervals = model.predict(X_test, batch_size=batch_size)"
   ]
  },
  {
   "cell_type": "code",
   "execution_count": 19,
   "metadata": {},
   "outputs": [
    {
     "data": {
      "text/plain": [
       "array([[3.9378812, 4.1270485],\n",
       "       [2.5395484, 2.6256328],\n",
       "       [1.2865691, 1.3988476],\n",
       "       ...,\n",
       "       [0.9186543, 1.0284537],\n",
       "       [2.176607 , 2.3298662],\n",
       "       [2.1017737, 2.1907783]], dtype=float32)"
      ]
     },
     "execution_count": 19,
     "metadata": {},
     "output_type": "execute_result"
    }
   ],
   "source": [
    "y_pred_intervals"
   ]
  },
  {
   "cell_type": "code",
   "execution_count": 21,
   "metadata": {},
   "outputs": [
    {
     "data": {
      "text/plain": [
       "Text(0, 0.5, 'prediction (+/- 95% confidence)')"
      ]
     },
     "execution_count": 21,
     "metadata": {},
     "output_type": "execute_result"
    },
    {
     "data": {
      "image/png": "[encoded data removed]",
      "text/plain": [
       "<Figure size 1600x400 with 1 Axes>"
      ]
     },
     "metadata": {},
     "output_type": "display_data"
    }
   ],
   "source": [
    "n_sample = 100\n",
    "inds = np.random.choice(range(y_pred.shape[0]), n_sample)\n",
    "y_err = y_pred_intervals[:, 1] - y_pred[:]\n",
    "\n",
    "fig, ax = plt.subplots(figsize=(16, 4))\n",
    "ax.errorbar(x=range(n_sample), y=y_pred[inds], yerr=y_err[inds], fmt=\".\", capsize=2)\n",
    "ax.set_xlabel(\"test set index\")\n",
    "ax.set_ylabel(\"prediction (+/- 95% confidence)\")"
   ]
  }
 ],
 "metadata": {
  "kernelspec": {
   "display_name": "dnn-uncertainty",
   "language": "python",
   "name": "python3"
  },
  "language_info": {
   "codemirror_mode": {
    "name": "ipython",
    "version": 3
   },
   "file_extension": ".py",
   "mimetype": "text/x-python",
   "name": "python",
   "nbconvert_exporter": "python",
   "pygments_lexer": "ipython3",
   "version": "3.9.15"
  },
  "orig_nbformat": 4
 },
 "nbformat": 4,
 "nbformat_minor": 2
}
