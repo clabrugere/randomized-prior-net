{
 "cells": [
  {
   "cell_type": "markdown",
   "metadata": {},
   "source": [
    "# Imports"
   ]
  },
  {
   "cell_type": "code",
   "execution_count": 31,
   "metadata": {},
   "outputs": [
    {
     "name": "stdout",
     "output_type": "stream",
     "text": [
      "The autoreload extension is already loaded. To reload it, use:\n",
      "  %reload_ext autoreload\n"
     ]
    }
   ],
   "source": [
    "%load_ext autoreload\n",
    "%autoreload 2"
   ]
  },
  {
   "cell_type": "code",
   "execution_count": 33,
   "metadata": {},
   "outputs": [],
   "source": [
    "import sys\n",
    "\n",
    "sys.path.append(\"..\")\n",
    "\n",
    "import tensorflow as tf\n",
    "from sklearn.datasets import fetch_california_housing\n",
    "from sklearn.model_selection import train_test_split\n",
    "from sklearn.preprocessing import StandardScaler\n",
    "import numpy as np\n",
    "import matplotlib.pyplot as plt\n",
    "\n",
    "from helpers import to_dataset\n",
    "from model.randomized_prior_nn import RandomizedPrioNet"
   ]
  },
  {
   "cell_type": "markdown",
   "metadata": {},
   "source": [
    "# Get some multidimensional data"
   ]
  },
  {
   "cell_type": "code",
   "execution_count": 34,
   "metadata": {},
   "outputs": [
    {
     "name": "stdout",
     "output_type": "stream",
     "text": [
      "train size: 14848\n",
      "val size: 1536\n",
      "test size: 4128\n"
     ]
    }
   ],
   "source": [
    "X, y = fetch_california_housing(return_X_y=True, as_frame=True)\n",
    "\n",
    "batch_size = 256\n",
    "\n",
    "X_train, X_test, y_train, y_test = train_test_split(X, y, test_size=0.2, shuffle=True)\n",
    "X_train, X_val, y_train, y_val = train_test_split(X_train, y_train, test_size=0.1, shuffle=True)\n",
    "\n",
    "scaler = StandardScaler()\n",
    "X_train = scaler.fit_transform(X_train)\n",
    "X_val = scaler.transform(X_val)\n",
    "X_test = scaler.transform(X_test)\n",
    "\n",
    "ds_train = to_dataset(X_train, y_train, batch_size=batch_size)\n",
    "ds_val = to_dataset(X_val, y_val, batch_size=batch_size)\n",
    "    \n",
    "print(f\"train size: {len(ds_train.unbatch())}\")\n",
    "print(f\"val size: {len(ds_val.unbatch())}\")\n",
    "print(f\"test size: {len(X_test)}\")"
   ]
  },
  {
   "cell_type": "markdown",
   "metadata": {},
   "source": [
    "## Train model"
   ]
  },
  {
   "cell_type": "code",
   "execution_count": 35,
   "metadata": {},
   "outputs": [
    {
     "name": "stderr",
     "output_type": "stream",
     "text": [
      "WARNING:absl:At this time, the v2.11+ optimizer `tf.keras.optimizers.Adam` runs slowly on M1/M2 Macs, please use the legacy Keras optimizer instead, located at `tf.keras.optimizers.legacy.Adam`.\n",
      "WARNING:absl:There is a known slowdown when using v2.11+ Keras optimizers on M1/M2 Macs. Falling back to the legacy Keras optimizer, i.e., `tf.keras.optimizers.legacy.Adam`.\n"
     ]
    },
    {
     "name": "stdout",
     "output_type": "stream",
     "text": [
      "Epoch 1/20\n"
     ]
    },
    {
     "name": "stderr",
     "output_type": "stream",
     "text": [
      "2023-08-02 13:46:04.169707: I tensorflow/core/grappler/optimizers/custom_graph_optimizer_registry.cc:114] Plugin optimizer for device_type GPU is enabled.\n"
     ]
    },
    {
     "name": "stdout",
     "output_type": "stream",
     "text": [
      "58/58 [==============================] - ETA: 0s - loss: 1.7763"
     ]
    },
    {
     "name": "stderr",
     "output_type": "stream",
     "text": [
      "2023-08-02 13:46:12.282127: I tensorflow/core/grappler/optimizers/custom_graph_optimizer_registry.cc:114] Plugin optimizer for device_type GPU is enabled.\n"
     ]
    },
    {
     "name": "stdout",
     "output_type": "stream",
     "text": [
      "58/58 [==============================] - 10s 79ms/step - loss: 1.7763 - val_loss: 1.3744 - lr: 0.0100\n",
      "Epoch 2/20\n",
      "58/58 [==============================] - 2s 41ms/step - loss: 0.8512 - val_loss: 1.0005 - lr: 0.0100\n",
      "Epoch 3/20\n",
      "58/58 [==============================] - 2s 36ms/step - loss: 0.7157 - val_loss: 0.6760 - lr: 0.0100\n",
      "Epoch 4/20\n",
      "58/58 [==============================] - 2s 34ms/step - loss: 0.6838 - val_loss: 0.5900 - lr: 0.0100\n",
      "Epoch 5/20\n",
      "58/58 [==============================] - 2s 36ms/step - loss: 0.6594 - val_loss: 0.6306 - lr: 0.0100\n",
      "Epoch 6/20\n",
      "58/58 [==============================] - 2s 33ms/step - loss: 0.6371 - val_loss: 0.5040 - lr: 0.0100\n",
      "Epoch 7/20\n",
      "58/58 [==============================] - 2s 32ms/step - loss: 0.5991 - val_loss: 0.5260 - lr: 0.0100\n",
      "Epoch 8/20\n",
      "57/58 [============================>.] - ETA: 0s - loss: 0.5972\n",
      "Epoch 8: ReduceLROnPlateau reducing learning rate to 0.0009999999776482583.\n",
      "58/58 [==============================] - 2s 33ms/step - loss: 0.5947 - val_loss: 0.5210 - lr: 0.0100\n",
      "Epoch 9/20\n",
      "58/58 [==============================] - 2s 34ms/step - loss: 0.5454 - val_loss: 0.5070 - lr: 1.0000e-03\n",
      "Epoch 10/20\n",
      "57/58 [============================>.] - ETA: 0s - loss: 0.5301\n",
      "Epoch 10: ReduceLROnPlateau reducing learning rate to 9.999999310821295e-05.\n",
      "58/58 [==============================] - 2s 34ms/step - loss: 0.5301 - val_loss: 0.5151 - lr: 1.0000e-03\n",
      "Epoch 10: early stopping\n"
     ]
    }
   ],
   "source": [
    "model = RandomizedPrioNet(\n",
    "    num_hidden_prior=1,\n",
    "    dim_hidden_prior=16,\n",
    "    num_hidden_encoder=2,\n",
    "    dim_hidden_encoder=64,\n",
    "    dropout_encoder=0.2,\n",
    "    num_subnetworks=10,\n",
    "    prior_scale=1.0,\n",
    ")\n",
    "\n",
    "tf.keras.backend.clear_session()\n",
    "\n",
    "optimizer = tf.keras.optimizers.Adam(learning_rate=1e-2)\n",
    "loss = tf.keras.losses.MeanSquaredError(reduction=tf.keras.losses.Reduction.SUM_OVER_BATCH_SIZE)\n",
    "model.compile(optimizer=optimizer, loss=loss)\n",
    "callbacks = [\n",
    "    tf.keras.callbacks.ReduceLROnPlateau(monitor=\"val_loss\", patience=2, mode=\"min\", verbose=1),\n",
    "    tf.keras.callbacks.EarlyStopping(monitor=\"val_loss\", patience=4, verbose=1),\n",
    "]\n",
    "\n",
    "history = model.fit(\n",
    "    ds_train,\n",
    "    validation_data=ds_val,\n",
    "    epochs=20,\n",
    "    callbacks=callbacks,\n",
    ")"
   ]
  },
  {
   "cell_type": "code",
   "execution_count": 38,
   "metadata": {},
   "outputs": [
    {
     "name": "stdout",
     "output_type": "stream",
     "text": [
      "17/17 [==============================] - 0s 9ms/step\n"
     ]
    }
   ],
   "source": [
    "y_pred, y_pred_intervals = model.predict(X_test, batch_size=batch_size)"
   ]
  },
  {
   "cell_type": "code",
   "execution_count": 42,
   "metadata": {},
   "outputs": [
    {
     "data": {
      "text/plain": [
       "Text(0, 0.5, 'prediction (+/- confidence at 95%)')"
      ]
     },
     "execution_count": 42,
     "metadata": {},
     "output_type": "execute_result"
    },
    {
     "data": {
      "image/png": "[encoded data removed]",
      "text/plain": [
       "<Figure size 1600x400 with 1 Axes>"
      ]
     },
     "metadata": {},
     "output_type": "display_data"
    }
   ],
   "source": [
    "n_sample = 100\n",
    "inds = np.random.choice(range(y_pred.shape[0]), n_sample)\n",
    "y_err = y_pred_intervals[:, 1] - y_pred[:]\n",
    "\n",
    "fig, ax = plt.subplots(figsize=(16, 4))\n",
    "ax.errorbar(x=range(n_sample), y=y_pred[inds], yerr=y_err[inds], fmt=\".\", capsize=2)\n",
    "ax.set_xlabel(\"test set index\")\n",
    "ax.set_ylabel(\"prediction (+/- 95% confidence)\")"
   ]
  },
  {
   "cell_type": "code",
   "execution_count": null,
   "metadata": {},
   "outputs": [],
   "source": []
  }
 ],
 "metadata": {
  "kernelspec": {
   "display_name": "dnn-uncertainty",
   "language": "python",
   "name": "python3"
  },
  "language_info": {
   "codemirror_mode": {
    "name": "ipython",
    "version": 3
   },
   "file_extension": ".py",
   "mimetype": "text/x-python",
   "name": "python",
   "nbconvert_exporter": "python",
   "pygments_lexer": "ipython3",
   "version": "3.9.15"
  },
  "orig_nbformat": 4
 },
 "nbformat": 4,
 "nbformat_minor": 2
}
